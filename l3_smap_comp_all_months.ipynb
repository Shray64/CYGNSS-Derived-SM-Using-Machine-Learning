{
 "cells": [
  {
   "cell_type": "code",
   "execution_count": 1,
   "id": "appropriate-hands",
   "metadata": {},
   "outputs": [],
   "source": [
    "from glob import glob\n",
    "import rasterio\n",
    "from xarray import open_mfdataset\n",
    "from warnings import filterwarnings\n",
    "import matplotlib.pyplot as plt\n",
    "import numpy as np\n",
    "import scipy.io\n",
    "import pandas as pd\n",
    "from scipy.stats import pearsonr\n",
    "from sklearn.metrics import mean_squared_error\n",
    "%matplotlib inline\n",
    "import math\n",
    "filterwarnings('ignore')"
   ]
  },
  {
   "cell_type": "code",
   "execution_count": 2,
   "id": "aboriginal-hindu",
   "metadata": {},
   "outputs": [],
   "source": [
    "# month_range = {\n",
    "#     'jan':(1,31),\n",
    "#     'april':(91,120),\n",
    "#     'july':(182,212)\n",
    "# }\n",
    "\n",
    "month_range = {\n",
    "\t'jan':(1,31),\n",
    "\t'feb':(32,59),\n",
    "\t'march':(60, 90),\n",
    "\t'april':(91, 120),\n",
    "\t'may':(121,151),\n",
    "\t'june':(152,181),\n",
    "\t'july':(182, 212),\n",
    "\t'august':(213, 243),\n",
    "\t'sept':(244,273),\n",
    "    'oct':(274, 304),\n",
    "    'nov':(305, 334),\n",
    "    'dec':(335, 365)\n",
    "\n",
    "}\n",
    "\n",
    "month_to_num_days = {'jan':31,\n",
    "                     'feb':28,\n",
    "                     'march':31,\n",
    "                    'april':30,\n",
    "                     'may':31,\n",
    "                     'june':30,\n",
    "                    'july':31,\n",
    "                    'august':31,\n",
    "                    'sept':30,\n",
    "                    'oct':31,\n",
    "                    'nov':30,\n",
    "                    'dec':31}"
   ]
  },
  {
   "cell_type": "code",
   "execution_count": 3,
   "id": "described-oakland",
   "metadata": {},
   "outputs": [],
   "source": [
    "grid_num = {\n",
    "    '36km':1,\n",
    "    '9km':16,\n",
    "    '3km':144,\n",
    "    '1km':1296\n",
    "}"
   ]
  },
  {
   "cell_type": "code",
   "execution_count": 4,
   "id": "awful-prescription",
   "metadata": {},
   "outputs": [],
   "source": [
    "def days_missing_cyg_v3(month):\n",
    "    lower_day, upper_day = month_range[month]\n",
    "    j = lower_day\n",
    "    for i in cygnss_day_nums[(cygnss_day_nums >= lower_day) & (cygnss_day_nums <= upper_day)] :\n",
    "        while(j!=i):\n",
    "            print(month, j-lower_day + 1)   \n",
    "            j += 1\n",
    "            continue\n",
    "        j = j+1"
   ]
  },
  {
   "cell_type": "code",
   "execution_count": 5,
   "id": "raising-immigration",
   "metadata": {},
   "outputs": [],
   "source": [
    "def days_missing_l3_sm(month):\n",
    "    lower_day, upper_day = month_range[month]\n",
    "    for i in range(lower_day, upper_day+1):\n",
    "        if np.isnan(global_sm[i-1][l3_lat][l3_lon]):\n",
    "            print(month, i-lower_day+1)"
   ]
  },
  {
   "cell_type": "code",
   "execution_count": 6,
   "id": "economic-builder",
   "metadata": {},
   "outputs": [],
   "source": [
    "# This function is wrong\n",
    "def days_missing_smap(month):\n",
    "    lower_day, upper_day = month_range[month]\n",
    "    for i in range(lower_day, upper_day+1):\n",
    "        if np.isnan(smap_comp_arr[i-lower_day]):\n",
    "            print(month, i-lower_day+1)"
   ]
  },
  {
   "cell_type": "code",
   "execution_count": 7,
   "id": "massive-penalty",
   "metadata": {},
   "outputs": [],
   "source": [
    "def get_smap(month, grid_res):  \n",
    "    lower_day, upper_day = month_range[month]\n",
    "    SMAP = np.empty((month_to_num_days[month], grid_num[grid_res]))\n",
    "    SMAP[:] = np.NaN\n",
    "    smap_data_path = 'C:/Cygnss/smap/'+grid_res+'/smap_sm_9km_2019*.tif'\n",
    "    smap_2019_files_list = glob(smap_data_path)\n",
    "    smap_month_list = [x for x in smap_2019_files_list if ((int(x[-7:-4])>=lower_day) & (int(x[-7:-4])<=upper_day))]\n",
    "    \n",
    "    for i in range(len(smap_month_list)):\n",
    "        smap = rasterio.open(smap_month_list[i])\n",
    "        smap_1 = smap.read(1).astype('float64')\n",
    "        smap_2 = smap.read(2).astype('float64')\n",
    "        smap_avg = np.nanmean(np.array([smap_1, smap_2]), axis = 0)\n",
    "        \n",
    "        smap_avg_reordered = smap_avg[[3, 2, 1, 0]]\n",
    "\n",
    "        smap_avg_flatten = smap_avg_reordered.flatten()\n",
    "        SMAP[i,:] = smap_avg_flatten\n",
    "\n",
    "    SMAP = np.nanmean(SMAP, axis = 1)    \n",
    "    return list(SMAP)"
   ]
  },
  {
   "cell_type": "code",
   "execution_count": 8,
   "id": "peripheral-gross",
   "metadata": {},
   "outputs": [
    {
     "data": {
      "text/plain": [
       "(365,\n",
       " ['../level3/2019\\\\001\\\\_ucar_cu_cygnss_sm_v1_2019_001.nc',\n",
       "  '../level3/2019\\\\002\\\\_ucar_cu_cygnss_sm_v1_2019_002.nc',\n",
       "  '../level3/2019\\\\003\\\\_ucar_cu_cygnss_sm_v1_2019_003.nc',\n",
       "  '../level3/2019\\\\004\\\\_ucar_cu_cygnss_sm_v1_2019_004.nc',\n",
       "  '../level3/2019\\\\005\\\\_ucar_cu_cygnss_sm_v1_2019_005.nc'])"
      ]
     },
     "execution_count": 8,
     "metadata": {},
     "output_type": "execute_result"
    }
   ],
   "source": [
    "example_d = \"../level3/2019/*/_ucar_cu_cygnss_sm_v1_2019_*.nc\"\n",
    "example_f = sorted(glob(example_d))\n",
    "\n",
    "# There should be 365 nc files. Print the first five:\n",
    "len(example_f), example_f[:5]"
   ]
  },
  {
   "cell_type": "code",
   "execution_count": 9,
   "id": "interesting-aurora",
   "metadata": {},
   "outputs": [],
   "source": [
    "xds = open_mfdataset(example_f, combine=\"by_coords\", concat_dim=\"time\", parallel=True)"
   ]
  },
  {
   "cell_type": "code",
   "execution_count": 10,
   "id": "sustainable-asthma",
   "metadata": {},
   "outputs": [],
   "source": [
    "latitudes = xds['latitude'].values\n",
    "longitudes = xds['longitude'].values\n",
    "centre_lat = 30.311826\n",
    "centre_lon = -98.775934\n",
    "global_sm = xds['SM_daily'].values"
   ]
  },
  {
   "cell_type": "code",
   "execution_count": 11,
   "id": "tracked-january",
   "metadata": {},
   "outputs": [],
   "source": [
    "l3_lat = 228\n",
    "l3_lon = 97"
   ]
  },
  {
   "cell_type": "code",
   "execution_count": 12,
   "id": "future-windows",
   "metadata": {},
   "outputs": [],
   "source": [
    "cygnss_sm_df = pd.read_csv('../report/ML/cygnss_sm_all_months.csv')\n",
    "cygnss_daily_sm = cygnss_sm_df.groupby(['day_num']).mean()['cygnss_sm'].to_numpy()\n",
    "\n",
    "cygnss_day_nums = set(cygnss_sm_df['day_num'])\n",
    "cygnss_day_nums = np.array(list(cygnss_day_nums))"
   ]
  },
  {
   "cell_type": "code",
   "execution_count": 15,
   "id": "robust-fountain",
   "metadata": {},
   "outputs": [],
   "source": [
    "# month = 'june'\n",
    "# days_missing_smap(month)\n",
    "# print('\\n')\n",
    "# days_missing_l3_sm(month)"
   ]
  },
  {
   "cell_type": "code",
   "execution_count": 16,
   "id": "mighty-field",
   "metadata": {},
   "outputs": [],
   "source": [
    "cygnss_day_indices = list(cygnss_day_nums - 1)"
   ]
  },
  {
   "cell_type": "code",
   "execution_count": 17,
   "id": "eastern-deposit",
   "metadata": {},
   "outputs": [],
   "source": [
    "# Get L3 sm values for days which have CYGNSS data\n",
    "l3_sm = []\n",
    "for i in cygnss_day_nums:\n",
    "    l3_sm.append((global_sm[i-1][l3_lat][l3_lon]))\n",
    "l3_daily_sm = np.array(l3_sm)"
   ]
  },
  {
   "cell_type": "code",
   "execution_count": 18,
   "id": "missing-alert",
   "metadata": {},
   "outputs": [],
   "source": [
    "l3_bool = ~np.isnan(l3_daily_sm)"
   ]
  },
  {
   "cell_type": "code",
   "execution_count": 19,
   "id": "skilled-acting",
   "metadata": {},
   "outputs": [],
   "source": [
    "smap_jan = get_smap('jan', '9km')\n",
    "smap_feb = get_smap('feb', '9km')\n",
    "smap_march = get_smap('march', '9km')\n",
    "smap_april = get_smap('april', '9km')\n",
    "smap_may = get_smap('may', '9km')\n",
    "smap_june = get_smap('june', '9km')\n",
    "smap_july = get_smap('july', '9km')\n",
    "smap_august = get_smap('august', '9km')\n",
    "smap_sept = get_smap('sept', '9km')\n",
    "smap_oct = get_smap('oct', '9km')\n",
    "smap_nov = get_smap('nov', '9km')\n",
    "smap_dec = get_smap('dec', '9km')"
   ]
  },
  {
   "cell_type": "code",
   "execution_count": 20,
   "id": "approved-vinyl",
   "metadata": {},
   "outputs": [
    {
     "data": {
      "text/plain": [
       "[nan,\n",
       " nan,\n",
       " nan,\n",
       " nan,\n",
       " nan,\n",
       " nan,\n",
       " nan,\n",
       " nan,\n",
       " nan,\n",
       " nan,\n",
       " nan,\n",
       " nan,\n",
       " nan,\n",
       " nan,\n",
       " nan,\n",
       " nan,\n",
       " nan,\n",
       " nan,\n",
       " nan,\n",
       " nan,\n",
       " nan,\n",
       " nan,\n",
       " nan,\n",
       " 0.13736689928919077,\n",
       " 0.1279877454508096,\n",
       " nan,\n",
       " 0.12380583491176367,\n",
       " 0.1281351032666862,\n",
       " nan,\n",
       " 0.12249604426324368,\n",
       " nan]"
      ]
     },
     "execution_count": 20,
     "metadata": {},
     "output_type": "execute_result"
    }
   ],
   "source": [
    "smap_july"
   ]
  },
  {
   "cell_type": "code",
   "execution_count": 21,
   "id": "radio-zoning",
   "metadata": {},
   "outputs": [],
   "source": [
    "smap_comp = smap_jan + smap_feb +smap_march+ smap_april + smap_may + smap_june + smap_july + smap_august + smap_sept + smap_oct + smap_nov + smap_dec\n",
    "smap_comp_arr = np.array(smap_comp)"
   ]
  },
  {
   "cell_type": "code",
   "execution_count": 40,
   "id": "established-australia",
   "metadata": {},
   "outputs": [
    {
     "data": {
      "text/plain": [
       "array([0.25575782,        nan, 0.28914485,        nan, 0.2769668 ,\n",
       "       0.27033786,        nan, 0.25666145, 0.24976999,        nan,\n",
       "       0.24811612,        nan, 0.26918138, 0.25784123,        nan,\n",
       "       0.245826  , 0.2590032 ,        nan, 0.24630974,        nan,\n",
       "       0.22892833, 0.2179666 ,        nan, 0.21530106, 0.20411375,\n",
       "              nan, 0.26710945,        nan, 0.26238307, 0.22982193,\n",
       "              nan, 0.21087409, 0.23221231,        nan, 0.23040034,\n",
       "              nan, 0.22466526, 0.22014382,        nan, 0.22636375,\n",
       "       0.23278348,        nan, 0.24289402,        nan, 0.22638176,\n",
       "       0.22393687,        nan, 0.20599898, 0.19588387,        nan,\n",
       "       0.20066123,        nan, 0.18892948, 0.19102656,        nan,\n",
       "       0.17899728, 0.17416848,        nan, 0.19297078,        nan,\n",
       "       0.2057828 , 0.21024473,        nan, 0.20171583, 0.18671487,\n",
       "              nan, 0.18128635,        nan, 0.18161012, 0.16523592,\n",
       "              nan, 0.26339574, 0.21528093,        nan, 0.18907112,\n",
       "              nan, 0.18080223, 0.16256109,        nan, 0.15893303,\n",
       "       0.16325064,        nan, 0.15805492,        nan, 0.16192508,\n",
       "       0.14804389,        nan, 0.14014146, 0.14422666,        nan,\n",
       "       0.13432986,        nan, 0.13494713, 0.14693705,        nan,\n",
       "       0.13310175, 0.23745146,        nan, 0.20356935,        nan,\n",
       "       0.17789769, 0.15472168,        nan, 0.21027273, 0.1689019 ,\n",
       "              nan, 0.14746828,        nan, 0.24119108, 0.19746725,\n",
       "              nan, 0.16189948, 0.1786993 ,        nan, 0.25136004,\n",
       "              nan, 0.22014729, 0.18879164,        nan, 0.16460843,\n",
       "       0.18079325,        nan, 0.34372211,        nan, 0.27870277,\n",
       "       0.24068086,        nan, 0.24515843, 0.30559614,        nan,\n",
       "       0.2823391 ,        nan, 0.25335157, 0.2493148 ,        nan,\n",
       "       0.22327807, 0.20378485,        nan, 0.21672516,        nan,\n",
       "       0.21450967, 0.18381041,        nan, 0.16254818, 0.15798886,\n",
       "              nan, 0.14984667,        nan, 0.14692943, 0.22113164,\n",
       "              nan, 0.18742649, 0.16945837,        nan, 0.17586289,\n",
       "              nan, 0.22640271, 0.19921683,        nan, 0.16089067,\n",
       "       0.22518454,        nan, 0.22977181,        nan, 0.19483369,\n",
       "       0.1740519 ,        nan, 0.25673363, 0.22142749,        nan,\n",
       "              nan,        nan,        nan,        nan,        nan,\n",
       "              nan,        nan,        nan,        nan,        nan,\n",
       "              nan,        nan,        nan,        nan,        nan,\n",
       "              nan,        nan,        nan,        nan,        nan,\n",
       "              nan,        nan,        nan,        nan,        nan,\n",
       "              nan,        nan,        nan,        nan,        nan,\n",
       "              nan,        nan,        nan,        nan, 0.1373669 ,\n",
       "       0.12798775,        nan, 0.12380583, 0.1281351 ,        nan,\n",
       "       0.12249604,        nan, 0.12252849, 0.12809364,        nan,\n",
       "       0.15411012, 0.13874086,        nan, 0.12504198,        nan,\n",
       "       0.12636767, 0.11397836,        nan, 0.12270992, 0.12659056,\n",
       "              nan, 0.15578131,        nan, 0.13888602, 0.12647154,\n",
       "              nan, 0.12496604, 0.12405036,        nan, 0.12546381,\n",
       "              nan, 0.1903236 , 0.14850158,        nan, 0.13951269,\n",
       "       0.11873641,        nan, 0.14168504,        nan, 0.16868801,\n",
       "       0.14853501,        nan, 0.13898086, 0.12556853,        nan,\n",
       "       0.12430197,        nan, 0.12238877, 0.18185665,        nan,\n",
       "       0.15444392, 0.14108142,        nan, 0.13261691,        nan,\n",
       "       0.12918679, 0.15306008,        nan, 0.14342824, 0.13766912,\n",
       "              nan, 0.12448784,        nan, 0.12500483, 0.11998241,\n",
       "              nan, 0.15532203, 0.14144161,        nan, 0.13492596,\n",
       "              nan, 0.13552512, 0.12802634,        nan, 0.16768698,\n",
       "       0.14466705,        nan, 0.13411055,        nan, 0.21369697,\n",
       "       0.20612335,        nan, 0.17108919, 0.17478068,        nan,\n",
       "       0.16468394,        nan, 0.15105634, 0.264606  ,        nan,\n",
       "       0.21085019, 0.29756732,        nan, 0.23779033,        nan,\n",
       "       0.20832595, 0.21518622,        nan, 0.26721819, 0.22564666,\n",
       "              nan, 0.21126533,        nan, 0.19235548, 0.1950052 ,\n",
       "              nan, 0.28849875, 0.25608696,        nan, 0.23120164,\n",
       "              nan, 0.2424944 , 0.22697703,        nan, 0.22939298,\n",
       "       0.23584304,        nan, 0.21314019,        nan, 0.20555818,\n",
       "       0.19968176,        nan, 0.19178633, 0.18540709,        nan,\n",
       "       0.17207248,        nan, 0.15257503, 0.17622855,        nan,\n",
       "       0.17360503, 0.16151602,        nan, 0.15614117,        nan,\n",
       "       0.1520011 , 0.14208754,        nan, 0.19372225, 0.20089129,\n",
       "              nan, 0.18997903,        nan, 0.18555562, 0.16654348,\n",
       "              nan, 0.16258099, 0.14962115,        nan, 0.15772338,\n",
       "              nan, 0.15887037, 0.15809842,        nan, 0.14378259,\n",
       "       0.14922395,        nan, 0.16109049,        nan, 0.15240041])"
      ]
     },
     "execution_count": 40,
     "metadata": {},
     "output_type": "execute_result"
    }
   ],
   "source": [
    "smap_comp_arr"
   ]
  },
  {
   "cell_type": "code",
   "execution_count": 22,
   "id": "tight-registration",
   "metadata": {},
   "outputs": [],
   "source": [
    "smap_daily_sm = smap_comp_arr[cygnss_day_indices]\n",
    "smap_bool = ~np.isnan(smap_daily_sm)"
   ]
  },
  {
   "cell_type": "code",
   "execution_count": 23,
   "id": "potential-academy",
   "metadata": {},
   "outputs": [],
   "source": [
    "def get_txson_monthly(month, grid_res):\n",
    "    txson_path = 'C:/Cygnss/TxSON_v1_3/TxSON_v1_3/TxSON_upscaled/txson_' + month + '_voronoi_'+ grid_res + '.mat'\n",
    "    txson = scipy.io.loadmat(txson_path)\n",
    "    txson_sm = txson['SWCv'][:,:,0]\n",
    "    return txson_sm"
   ]
  },
  {
   "cell_type": "code",
   "execution_count": 24,
   "id": "informative-darkness",
   "metadata": {},
   "outputs": [],
   "source": [
    "def avg_txson_daily(month, txson):\n",
    "    txson_values = []\n",
    "    num_days = month_to_num_days[month]\n",
    "    month_days = np.arange(num_days)\n",
    "    for day in month_days:\n",
    "        lower = (day)*24\n",
    "        upper = lower+24\n",
    "        txson_values.append(np.nanmean(np.nanmean(txson[lower:upper,:], axis = 0)))\n",
    "    return txson_values"
   ]
  },
  {
   "cell_type": "code",
   "execution_count": 25,
   "id": "electoral-stress",
   "metadata": {},
   "outputs": [],
   "source": [
    "txson_jan = get_txson_monthly('jan', '9km')\n",
    "txson_feb = get_txson_monthly('feb', '9km')\n",
    "txson_march = get_txson_monthly('march', '9km')\n",
    "txson_apr = get_txson_monthly('april', '9km')\n",
    "txson_may = get_txson_monthly('may', '9km')\n",
    "txson_june = get_txson_monthly('june', '9km')\n",
    "txson_july = get_txson_monthly('july', '9km')\n",
    "txson_august = get_txson_monthly('august', '9km')\n",
    "txson_sept = get_txson_monthly('sept', '9km')\n",
    "txson_oct = get_txson_monthly('oct', '9km')\n",
    "txson_nov = get_txson_monthly('nov', '9km')\n",
    "txson_dec = get_txson_monthly('dec', '9km')\n",
    "\n",
    "txson_daily_jan = avg_txson_daily('jan', txson_jan)\n",
    "txson_daily_feb = avg_txson_daily('feb', txson_feb)\n",
    "txson_daily_march = avg_txson_daily('march', txson_march)\n",
    "txson_daily_apr = avg_txson_daily('april', txson_apr)\n",
    "txson_daily_may = avg_txson_daily('may', txson_may)\n",
    "txson_daily_june = avg_txson_daily('june', txson_june)\n",
    "txson_daily_july = avg_txson_daily('july', txson_july)\n",
    "txson_daily_august = avg_txson_daily('august', txson_august)\n",
    "txson_daily_sept = avg_txson_daily('sept', txson_sept)\n",
    "txson_daily_oct = avg_txson_daily('oct', txson_oct)\n",
    "txson_daily_nov = avg_txson_daily('nov', txson_nov)\n",
    "txson_daily_dec = avg_txson_daily('dec', txson_dec)"
   ]
  },
  {
   "cell_type": "code",
   "execution_count": 26,
   "id": "conditional-energy",
   "metadata": {},
   "outputs": [],
   "source": [
    "txson_comp = txson_daily_jan + txson_daily_feb + txson_daily_march + txson_daily_apr + txson_daily_may + txson_daily_june + txson_daily_july + txson_daily_august + txson_daily_sept + txson_daily_oct + txson_daily_nov + txson_daily_dec "
   ]
  },
  {
   "cell_type": "code",
   "execution_count": 27,
   "id": "dried-capitol",
   "metadata": {},
   "outputs": [],
   "source": [
    "txson_daily_sm = np.array(txson_comp)\n",
    "txson_daily_sm = txson_daily_sm[cygnss_day_indices]"
   ]
  },
  {
   "cell_type": "code",
   "execution_count": 28,
   "id": "empirical-flashing",
   "metadata": {},
   "outputs": [],
   "source": [
    "cygnss_sm = cygnss_daily_sm[l3_bool&smap_bool]\n",
    "txson_sm = txson_daily_sm[l3_bool&smap_bool]\n",
    "l3_sm = l3_daily_sm[l3_bool&smap_bool]\n",
    "smap_sm = smap_daily_sm[l3_bool&smap_bool]"
   ]
  },
  {
   "cell_type": "code",
   "execution_count": 29,
   "id": "ethical-minneapolis",
   "metadata": {},
   "outputs": [],
   "source": [
    "scat_x = np.array(cygnss_day_indices)[l3_bool&smap_bool]"
   ]
  },
  {
   "cell_type": "code",
   "execution_count": 30,
   "id": "spatial-labor",
   "metadata": {},
   "outputs": [],
   "source": [
    "month_ticks = [month_range['jan'][0],month_range['feb'][0],month_range['march'][0],month_range['april'][0],month_range['may'][0],month_range['june'][0],month_range['july'][0],month_range['august'][0], month_range['sept'][0], month_range['oct'][0], month_range['nov'][0], month_range['dec'][0]]"
   ]
  },
  {
   "cell_type": "code",
   "execution_count": 31,
   "id": "passing-petite",
   "metadata": {},
   "outputs": [
    {
     "data": {
      "image/png": "[encoded data removed]",
      "text/plain": [
       "<Figure size 1440x360 with 1 Axes>"
      ]
     },
     "metadata": {
      "needs_background": "light"
     },
     "output_type": "display_data"
    }
   ],
   "source": [
    "fig, ax = plt.subplots(figsize = (20,5))\n",
    "\n",
    "ax.scatter(scat_x+1, txson_sm, c = 'lime',label = 'TxSON_sm')\n",
    "ax.scatter(scat_x+1, cygnss_sm, c = 'cyan',label = 'CYGNSS_sm')\n",
    "ax.scatter(scat_x+1, smap_sm, c = 'magenta',label = 'SMAP_sm')\n",
    "ax.scatter(scat_x+1, l3_sm, c = 'purple',label = 'L3_sm', marker = 'o')\n",
    "\n",
    "\n",
    "# ax.set_xlabel('Day Number')\n",
    "ax.set_ylabel('Soil Moisture cm\\u00b3/cm\\u00b3\\n')\n",
    "ax.set_xlabel('\\nDay Sequence Numbers')\n",
    "ax.xaxis.label.set_size(20)\n",
    "ax.yaxis.label.set_size(25)\n",
    "plt.xticks(fontsize=20)\n",
    "plt.yticks(fontsize=20)\n",
    "# # plt.xticks(np.arange(min(data.index), max(data.index), 20))\n",
    "# plt.xticks(np.arange(1,78))\n",
    "# plt.xticks(scat_x+1)\n",
    "plt.xticks(month_ticks)\n",
    "ax.legend(prop = {'size':15})\n",
    "lw = 2\n",
    "plt.axvline(x=month_range['jan'][0], linestyle = '--', linewidth = lw, color = 'red')\n",
    "plt.axvline(x=month_range['feb'][0], linestyle = '--', linewidth = lw, color = 'red')\n",
    "plt.axvline(x=month_range['march'][0], linestyle = '--', linewidth = lw, color = 'red')\n",
    "plt.axvline(x=month_range['april'][0], linestyle = '--', linewidth = lw, color = 'red')\n",
    "plt.axvline(x=month_range['may'][0], linestyle = '--', linewidth = lw, color = 'red')\n",
    "plt.axvline(x=month_range['june'][0], linestyle = '--', linewidth = lw, color = 'red')\n",
    "plt.axvline(x=month_range['july'][0], linestyle = '--', linewidth = lw, color = 'red')\n",
    "plt.axvline(x=month_range['august'][0], linestyle = '--', linewidth = lw, color = 'red')\n",
    "plt.axvline(x=month_range['sept'][0], linestyle = '--', linewidth = lw, color = 'red')\n",
    "plt.axvline(x=month_range['oct'][0], linestyle = '--', linewidth = lw, color = 'red')\n",
    "plt.axvline(x=month_range['nov'][0], linestyle = '--', linewidth = lw, color = 'red')\n",
    "plt.axvline(x=month_range['dec'][0], linestyle = '--', linewidth = lw, color = 'red')\n",
    "plt.axvline(x=month_range['dec'][1], linestyle = '--', linewidth = lw, color = 'red')\n",
    "\n",
    "# plt.tick_params(axis = \"x\", which = \"both\", length = 6, width = 2, bottom = False, top = False)\n",
    "plt.tick_params(axis = \"x\", which = \"both\", bottom = False, top = False)\n",
    "plt.savefig('C:/Cygnss/report/figures/scatter_daily_36km_all_months.jpg')\n",
    "plt.show()"
   ]
  },
  {
   "cell_type": "code",
   "execution_count": 32,
   "id": "according-mining",
   "metadata": {},
   "outputs": [
    {
     "data": {
      "text/html": [
       "<div>\n",
       "<style scoped>\n",
       "    .dataframe tbody tr th:only-of-type {\n",
       "        vertical-align: middle;\n",
       "    }\n",
       "\n",
       "    .dataframe tbody tr th {\n",
       "        vertical-align: top;\n",
       "    }\n",
       "\n",
       "    .dataframe thead th {\n",
       "        text-align: right;\n",
       "    }\n",
       "</style>\n",
       "<table border=\"1\" class=\"dataframe\">\n",
       "  <thead>\n",
       "    <tr style=\"text-align: right;\">\n",
       "      <th></th>\n",
       "      <th>TxSON_sm</th>\n",
       "      <th>SMAP_sm</th>\n",
       "      <th>CYGNSS_sm</th>\n",
       "      <th>L3_sm</th>\n",
       "    </tr>\n",
       "  </thead>\n",
       "  <tbody>\n",
       "    <tr>\n",
       "      <th>TxSON_sm</th>\n",
       "      <td>1.000</td>\n",
       "      <td>0.886</td>\n",
       "      <td>0.763</td>\n",
       "      <td>0.688</td>\n",
       "    </tr>\n",
       "    <tr>\n",
       "      <th>SMAP_sm</th>\n",
       "      <td>0.886</td>\n",
       "      <td>1.000</td>\n",
       "      <td>0.519</td>\n",
       "      <td>0.653</td>\n",
       "    </tr>\n",
       "    <tr>\n",
       "      <th>CYGNSS_sm</th>\n",
       "      <td>0.763</td>\n",
       "      <td>0.519</td>\n",
       "      <td>1.000</td>\n",
       "      <td>0.522</td>\n",
       "    </tr>\n",
       "    <tr>\n",
       "      <th>L3_sm</th>\n",
       "      <td>0.688</td>\n",
       "      <td>0.653</td>\n",
       "      <td>0.522</td>\n",
       "      <td>1.000</td>\n",
       "    </tr>\n",
       "  </tbody>\n",
       "</table>\n",
       "</div>"
      ],
      "text/plain": [
       "           TxSON_sm  SMAP_sm  CYGNSS_sm  L3_sm\n",
       "TxSON_sm      1.000    0.886      0.763  0.688\n",
       "SMAP_sm       0.886    1.000      0.519  0.653\n",
       "CYGNSS_sm     0.763    0.519      1.000  0.522\n",
       "L3_sm         0.688    0.653      0.522  1.000"
      ]
     },
     "execution_count": 32,
     "metadata": {},
     "output_type": "execute_result"
    }
   ],
   "source": [
    "np.round(pd.DataFrame({'TxSON_sm':txson_sm,'SMAP_sm': smap_sm, 'CYGNSS_sm':cygnss_sm, 'L3_sm': l3_sm}).corr(),3)"
   ]
  },
  {
   "cell_type": "code",
   "execution_count": 33,
   "id": "experienced-cooper",
   "metadata": {},
   "outputs": [
    {
     "data": {
      "text/plain": [
       "0.034"
      ]
     },
     "execution_count": 33,
     "metadata": {},
     "output_type": "execute_result"
    }
   ],
   "source": [
    "np.round(math.sqrt(mean_squared_error(cygnss_sm, txson_sm)),3)"
   ]
  },
  {
   "cell_type": "code",
   "execution_count": 34,
   "id": "discrete-design",
   "metadata": {},
   "outputs": [
    {
     "data": {
      "text/plain": [
       "0.04"
      ]
     },
     "execution_count": 34,
     "metadata": {},
     "output_type": "execute_result"
    }
   ],
   "source": [
    "np.round(math.sqrt(mean_squared_error(l3_sm, txson_sm)),3)"
   ]
  },
  {
   "cell_type": "code",
   "execution_count": 241,
   "id": "viral-india",
   "metadata": {},
   "outputs": [
    {
     "data": {
      "text/plain": [
       "0.024"
      ]
     },
     "execution_count": 241,
     "metadata": {},
     "output_type": "execute_result"
    }
   ],
   "source": [
    "np.round(math.sqrt(mean_squared_error(smap_sm, txson_sm)),3)"
   ]
  },
  {
   "cell_type": "code",
   "execution_count": 35,
   "id": "south-ebony",
   "metadata": {},
   "outputs": [
    {
     "data": {
      "text/plain": [
       "0.042"
      ]
     },
     "execution_count": 35,
     "metadata": {},
     "output_type": "execute_result"
    }
   ],
   "source": [
    "np.round(math.sqrt(mean_squared_error(cygnss_sm, smap_sm)),3)"
   ]
  },
  {
   "cell_type": "code",
   "execution_count": 37,
   "id": "relevant-cooking",
   "metadata": {},
   "outputs": [
    {
     "data": {
      "text/plain": [
       "0.037"
      ]
     },
     "execution_count": 37,
     "metadata": {},
     "output_type": "execute_result"
    }
   ],
   "source": [
    "np.round(math.sqrt(mean_squared_error(l3_sm, smap_sm)),3)"
   ]
  },
  {
   "cell_type": "code",
   "execution_count": 255,
   "id": "bacterial-ownership",
   "metadata": {},
   "outputs": [
    {
     "data": {
      "text/plain": [
       "310"
      ]
     },
     "execution_count": 255,
     "metadata": {},
     "output_type": "execute_result"
    }
   ],
   "source": [
    "cygnss_day_nums.size"
   ]
  },
  {
   "cell_type": "code",
   "execution_count": 257,
   "id": "smooth-moore",
   "metadata": {},
   "outputs": [
    {
     "data": {
      "text/plain": [
       "173"
      ]
     },
     "execution_count": 257,
     "metadata": {},
     "output_type": "execute_result"
    }
   ],
   "source": [
    "cygnss_sm.size"
   ]
  },
  {
   "cell_type": "code",
   "execution_count": 258,
   "id": "golden-chile",
   "metadata": {},
   "outputs": [
    {
     "data": {
      "text/plain": [
       "304"
      ]
     },
     "execution_count": 258,
     "metadata": {},
     "output_type": "execute_result"
    }
   ],
   "source": [
    "np.sum(l3_bool)"
   ]
  },
  {
   "cell_type": "code",
   "execution_count": 260,
   "id": "certain-behalf",
   "metadata": {},
   "outputs": [
    {
     "data": {
      "text/plain": [
       "176"
      ]
     },
     "execution_count": 260,
     "metadata": {},
     "output_type": "execute_result"
    }
   ],
   "source": [
    "np.sum(smap_bool)"
   ]
  },
  {
   "cell_type": "code",
   "execution_count": 41,
   "id": "assigned-inspiration",
   "metadata": {},
   "outputs": [
    {
     "data": {
      "text/plain": [
       "173"
      ]
     },
     "execution_count": 41,
     "metadata": {},
     "output_type": "execute_result"
    }
   ],
   "source": [
    "cygnss_sm.size"
   ]
  },
  {
   "cell_type": "code",
   "execution_count": null,
   "id": "sensitive-billy",
   "metadata": {},
   "outputs": [],
   "source": []
  }
 ],
 "metadata": {
  "kernelspec": {
   "display_name": "Python 3",
   "language": "python",
   "name": "python3"
  },
  "language_info": {
   "codemirror_mode": {
    "name": "ipython",
    "version": 3
   },
   "file_extension": ".py",
   "mimetype": "text/x-python",
   "name": "python",
   "nbconvert_exporter": "python",
   "pygments_lexer": "ipython3",
   "version": "3.7.10"
  }
 },
 "nbformat": 4,
 "nbformat_minor": 5
}
